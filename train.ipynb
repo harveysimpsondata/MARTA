{
 "cells": [
  {
   "cell_type": "code",
   "execution_count": 2,
   "metadata": {
    "collapsed": true,
    "ExecuteTime": {
     "end_time": "2023-07-06T19:33:41.854247Z",
     "start_time": "2023-07-06T19:33:40.810100Z"
    }
   },
   "outputs": [],
   "source": [
    "import requests\n",
    "import json\n",
    "from config import api_key\n",
    "import pandas as pd\n"
   ]
  },
  {
   "cell_type": "code",
   "execution_count": 2,
   "outputs": [
    {
     "name": "stdout",
     "output_type": "stream",
     "text": [
      "pkc-619z3.us-east1.gcp.confluent.cloud:9092\n",
      "sasl_ssl\n",
      "PLAIN\n",
      "LL3C4E2VZM4SIT6D\n",
      "0LaUBVU+Nfg1F2rEC0tLzjOzP8b0YiJontZ2fUcyW7+IMavyj+eQyvQZ6Ohv87bn\n"
     ]
    }
   ],
   "source": [],
   "metadata": {
    "collapsed": false,
    "ExecuteTime": {
     "end_time": "2023-07-06T15:26:58.773819Z",
     "start_time": "2023-07-06T15:26:58.770524Z"
    }
   }
  },
  {
   "cell_type": "code",
   "execution_count": 4,
   "outputs": [
    {
     "name": "stderr",
     "output_type": "stream",
     "text": [
      "/opt/anaconda3/lib/python3.9/site-packages/urllib3/connectionpool.py:1045: InsecureRequestWarning: Unverified HTTPS request is being made to host 'developerservices.itsmarta.com'. Adding certificate verification is strongly advised. See: https://urllib3.readthedocs.io/en/1.26.x/advanced-usage.html#ssl-warnings\n",
      "  warnings.warn(\n"
     ]
    },
    {
     "data": {
      "text/plain": "       DESTINATION DIRECTION            EVENT_TIME        HEAD_SIGN  LINE  \\\n0    NORTH SPRINGS         N  2023-07-06T15:42:27Z      ARTS CENTER   RED   \n1    NORTH SPRINGS         N  2023-07-06T15:42:27Z         BUCKHEAD   RED   \n2    NORTH SPRINGS         N  2023-07-06T15:42:27Z     CIVIC CENTER   RED   \n3    NORTH SPRINGS         N  2023-07-06T15:42:27Z       EAST POINT   RED   \n4    NORTH SPRINGS         N  2023-07-06T15:42:27Z  FIVE POINTS N-S   RED   \n..             ...       ...                   ...              ...   ...   \n203   INDIAN CREEK         E  2023-07-06T15:34:26Z       INMAN PARK  BLUE   \n204   INDIAN CREEK         E  2023-07-06T15:34:26Z       KENSINGTON  BLUE   \n205   INDIAN CREEK         E  2023-07-06T15:34:26Z    KING MEMORIAL  BLUE   \n206   INDIAN CREEK         E  2023-07-06T15:34:26Z        VINE CITY  BLUE   \n207   INDIAN CREEK         E  2023-07-06T15:34:26Z        WEST LAKE  BLUE   \n\n                 NEXT_ARR                STATION TRAIN_ID WAITING_SECONDS  \\\n0    2023-07-06T16:01:53Z    ARTS CENTER STATION      406            1148   \n1    2023-07-06T16:09:53Z       BUCKHEAD STATION      406            1627   \n2    2023-07-06T15:56:53Z   CIVIC CENTER STATION      406             850   \n3    2023-07-06T15:42:53Z     EAST POINT STATION      406              15   \n4    2023-07-06T15:54:53Z    FIVE POINTS STATION      406             732   \n..                    ...                    ...      ...             ...   \n203  2023-07-06T15:57:40Z     INMAN PARK STATION      102             899   \n204  2023-07-06T16:12:40Z     KENSINGTON STATION      102            1795   \n205  2023-07-06T15:54:40Z  KING MEMORIAL STATION      102             719   \n206  2023-07-06T15:49:40Z      VINE CITY STATION      102             422   \n207  2023-07-06T15:45:40Z      WEST LAKE STATION      102             183   \n\n    WAITING_TIME     RESPONSETIMESTAMP VEHICLELONGITUDE VEHICLELATITUDE DELAY  \\\n0         19 min  2023-07-06T15:42:27Z        33.677983      -84.440277  T13S   \n1         27 min  2023-07-06T15:42:27Z        33.677983      -84.440277  T13S   \n2         14 min  2023-07-06T15:42:27Z        33.677983      -84.440277  T13S   \n3       Arriving  2023-07-06T15:42:27Z        33.677983      -84.440277  T13S   \n4         12 min  2023-07-06T15:42:27Z        33.677983      -84.440277  T13S   \n..           ...                   ...              ...             ...   ...   \n203       14 min  2023-07-06T15:42:28Z        33.754487      -84.469548   T0S   \n204       29 min  2023-07-06T15:42:28Z        33.754487      -84.469548   T0S   \n205       11 min  2023-07-06T15:42:28Z        33.754487      -84.469548   T0S   \n206        7 min  2023-07-06T15:42:28Z        33.754487      -84.469548   T0S   \n207        3 min  2023-07-06T15:42:28Z        33.754487      -84.469548   T0S   \n\n    TRIP_ID  \n0      4050  \n1      4050  \n2      4050  \n3      4050  \n4      4050  \n..      ...  \n203    1049  \n204    1049  \n205    1049  \n206    1049  \n207    1049  \n\n[208 rows x 15 columns]",
      "text/html": "<div>\n<style scoped>\n    .dataframe tbody tr th:only-of-type {\n        vertical-align: middle;\n    }\n\n    .dataframe tbody tr th {\n        vertical-align: top;\n    }\n\n    .dataframe thead th {\n        text-align: right;\n    }\n</style>\n<table border=\"1\" class=\"dataframe\">\n  <thead>\n    <tr style=\"text-align: right;\">\n      <th></th>\n      <th>DESTINATION</th>\n      <th>DIRECTION</th>\n      <th>EVENT_TIME</th>\n      <th>HEAD_SIGN</th>\n      <th>LINE</th>\n      <th>NEXT_ARR</th>\n      <th>STATION</th>\n      <th>TRAIN_ID</th>\n      <th>WAITING_SECONDS</th>\n      <th>WAITING_TIME</th>\n      <th>RESPONSETIMESTAMP</th>\n      <th>VEHICLELONGITUDE</th>\n      <th>VEHICLELATITUDE</th>\n      <th>DELAY</th>\n      <th>TRIP_ID</th>\n    </tr>\n  </thead>\n  <tbody>\n    <tr>\n      <th>0</th>\n      <td>NORTH SPRINGS</td>\n      <td>N</td>\n      <td>2023-07-06T15:42:27Z</td>\n      <td>ARTS CENTER</td>\n      <td>RED</td>\n      <td>2023-07-06T16:01:53Z</td>\n      <td>ARTS CENTER STATION</td>\n      <td>406</td>\n      <td>1148</td>\n      <td>19 min</td>\n      <td>2023-07-06T15:42:27Z</td>\n      <td>33.677983</td>\n      <td>-84.440277</td>\n      <td>T13S</td>\n      <td>4050</td>\n    </tr>\n    <tr>\n      <th>1</th>\n      <td>NORTH SPRINGS</td>\n      <td>N</td>\n      <td>2023-07-06T15:42:27Z</td>\n      <td>BUCKHEAD</td>\n      <td>RED</td>\n      <td>2023-07-06T16:09:53Z</td>\n      <td>BUCKHEAD STATION</td>\n      <td>406</td>\n      <td>1627</td>\n      <td>27 min</td>\n      <td>2023-07-06T15:42:27Z</td>\n      <td>33.677983</td>\n      <td>-84.440277</td>\n      <td>T13S</td>\n      <td>4050</td>\n    </tr>\n    <tr>\n      <th>2</th>\n      <td>NORTH SPRINGS</td>\n      <td>N</td>\n      <td>2023-07-06T15:42:27Z</td>\n      <td>CIVIC CENTER</td>\n      <td>RED</td>\n      <td>2023-07-06T15:56:53Z</td>\n      <td>CIVIC CENTER STATION</td>\n      <td>406</td>\n      <td>850</td>\n      <td>14 min</td>\n      <td>2023-07-06T15:42:27Z</td>\n      <td>33.677983</td>\n      <td>-84.440277</td>\n      <td>T13S</td>\n      <td>4050</td>\n    </tr>\n    <tr>\n      <th>3</th>\n      <td>NORTH SPRINGS</td>\n      <td>N</td>\n      <td>2023-07-06T15:42:27Z</td>\n      <td>EAST POINT</td>\n      <td>RED</td>\n      <td>2023-07-06T15:42:53Z</td>\n      <td>EAST POINT STATION</td>\n      <td>406</td>\n      <td>15</td>\n      <td>Arriving</td>\n      <td>2023-07-06T15:42:27Z</td>\n      <td>33.677983</td>\n      <td>-84.440277</td>\n      <td>T13S</td>\n      <td>4050</td>\n    </tr>\n    <tr>\n      <th>4</th>\n      <td>NORTH SPRINGS</td>\n      <td>N</td>\n      <td>2023-07-06T15:42:27Z</td>\n      <td>FIVE POINTS N-S</td>\n      <td>RED</td>\n      <td>2023-07-06T15:54:53Z</td>\n      <td>FIVE POINTS STATION</td>\n      <td>406</td>\n      <td>732</td>\n      <td>12 min</td>\n      <td>2023-07-06T15:42:27Z</td>\n      <td>33.677983</td>\n      <td>-84.440277</td>\n      <td>T13S</td>\n      <td>4050</td>\n    </tr>\n    <tr>\n      <th>...</th>\n      <td>...</td>\n      <td>...</td>\n      <td>...</td>\n      <td>...</td>\n      <td>...</td>\n      <td>...</td>\n      <td>...</td>\n      <td>...</td>\n      <td>...</td>\n      <td>...</td>\n      <td>...</td>\n      <td>...</td>\n      <td>...</td>\n      <td>...</td>\n      <td>...</td>\n    </tr>\n    <tr>\n      <th>203</th>\n      <td>INDIAN CREEK</td>\n      <td>E</td>\n      <td>2023-07-06T15:34:26Z</td>\n      <td>INMAN PARK</td>\n      <td>BLUE</td>\n      <td>2023-07-06T15:57:40Z</td>\n      <td>INMAN PARK STATION</td>\n      <td>102</td>\n      <td>899</td>\n      <td>14 min</td>\n      <td>2023-07-06T15:42:28Z</td>\n      <td>33.754487</td>\n      <td>-84.469548</td>\n      <td>T0S</td>\n      <td>1049</td>\n    </tr>\n    <tr>\n      <th>204</th>\n      <td>INDIAN CREEK</td>\n      <td>E</td>\n      <td>2023-07-06T15:34:26Z</td>\n      <td>KENSINGTON</td>\n      <td>BLUE</td>\n      <td>2023-07-06T16:12:40Z</td>\n      <td>KENSINGTON STATION</td>\n      <td>102</td>\n      <td>1795</td>\n      <td>29 min</td>\n      <td>2023-07-06T15:42:28Z</td>\n      <td>33.754487</td>\n      <td>-84.469548</td>\n      <td>T0S</td>\n      <td>1049</td>\n    </tr>\n    <tr>\n      <th>205</th>\n      <td>INDIAN CREEK</td>\n      <td>E</td>\n      <td>2023-07-06T15:34:26Z</td>\n      <td>KING MEMORIAL</td>\n      <td>BLUE</td>\n      <td>2023-07-06T15:54:40Z</td>\n      <td>KING MEMORIAL STATION</td>\n      <td>102</td>\n      <td>719</td>\n      <td>11 min</td>\n      <td>2023-07-06T15:42:28Z</td>\n      <td>33.754487</td>\n      <td>-84.469548</td>\n      <td>T0S</td>\n      <td>1049</td>\n    </tr>\n    <tr>\n      <th>206</th>\n      <td>INDIAN CREEK</td>\n      <td>E</td>\n      <td>2023-07-06T15:34:26Z</td>\n      <td>VINE CITY</td>\n      <td>BLUE</td>\n      <td>2023-07-06T15:49:40Z</td>\n      <td>VINE CITY STATION</td>\n      <td>102</td>\n      <td>422</td>\n      <td>7 min</td>\n      <td>2023-07-06T15:42:28Z</td>\n      <td>33.754487</td>\n      <td>-84.469548</td>\n      <td>T0S</td>\n      <td>1049</td>\n    </tr>\n    <tr>\n      <th>207</th>\n      <td>INDIAN CREEK</td>\n      <td>E</td>\n      <td>2023-07-06T15:34:26Z</td>\n      <td>WEST LAKE</td>\n      <td>BLUE</td>\n      <td>2023-07-06T15:45:40Z</td>\n      <td>WEST LAKE STATION</td>\n      <td>102</td>\n      <td>183</td>\n      <td>3 min</td>\n      <td>2023-07-06T15:42:28Z</td>\n      <td>33.754487</td>\n      <td>-84.469548</td>\n      <td>T0S</td>\n      <td>1049</td>\n    </tr>\n  </tbody>\n</table>\n<p>208 rows × 15 columns</p>\n</div>"
     },
     "execution_count": 4,
     "metadata": {},
     "output_type": "execute_result"
    }
   ],
   "source": [
    "trains_url_1 = f\"https://developerservices.itsmarta.com:18096/railrealtimearrivals?apiKey={api_key}\"\n",
    "\n",
    "response = requests.get(trains_url_1, verify=False)\n",
    "\n",
    "data = response.json()['RailArrivals']\n",
    "data\n",
    "df = pd.DataFrame(data)\n",
    "\n",
    "df"
   ],
   "metadata": {
    "collapsed": false,
    "ExecuteTime": {
     "end_time": "2023-07-06T19:42:47.616108Z",
     "start_time": "2023-07-06T19:42:47.041609Z"
    }
   }
  },
  {
   "cell_type": "code",
   "execution_count": null,
   "outputs": [],
   "source": [],
   "metadata": {
    "collapsed": false
   }
  },
  {
   "cell_type": "code",
   "execution_count": 25,
   "outputs": [
    {
     "data": {
      "text/plain": "[{'DESTINATION': 'Doraville',\n  'DIRECTION': 'N',\n  'EVENT_TIME': '7/05/2023 11:16:11 PM',\n  'LINE': 'GOLD',\n  'NEXT_ARR': '11:20:11 PM',\n  'STATION': 'DORAVILLE STATION',\n  'TRAIN_ID': '304326',\n  'WAITING_SECONDS': '181',\n  'WAITING_TIME': '3 min'},\n {'DESTINATION': 'Airport',\n  'DIRECTION': 'S',\n  'EVENT_TIME': '7/05/2023 11:16:23 PM',\n  'LINE': 'GOLD',\n  'NEXT_ARR': '11:19:17 PM',\n  'STATION': 'AIRPORT STATION',\n  'TRAIN_ID': '301506',\n  'WAITING_SECONDS': '127',\n  'WAITING_TIME': '2 min'},\n {'DESTINATION': 'Lindbergh',\n  'DIRECTION': 'S',\n  'EVENT_TIME': '7/05/2023 11:17:03 PM',\n  'LINE': 'RED',\n  'NEXT_ARR': '11:17:50 PM',\n  'STATION': 'BUCKHEAD STATION',\n  'TRAIN_ID': '402366',\n  'WAITING_SECONDS': '40',\n  'WAITING_TIME': 'Arriving'},\n {'DESTINATION': 'Lindbergh',\n  'DIRECTION': 'S',\n  'EVENT_TIME': '7/05/2023 11:17:03 PM',\n  'LINE': 'RED',\n  'NEXT_ARR': '11:21:34 PM',\n  'STATION': 'LINDBERGH STATION',\n  'TRAIN_ID': '402366',\n  'WAITING_SECONDS': '264',\n  'WAITING_TIME': '4 min'},\n {'DESTINATION': 'Airport',\n  'DIRECTION': 'S',\n  'EVENT_TIME': '7/05/2023 11:16:57 PM',\n  'LINE': 'GOLD',\n  'NEXT_ARR': '11:18:12 PM',\n  'STATION': 'ARTS CENTER STATION',\n  'TRAIN_ID': '302506',\n  'WAITING_SECONDS': '62',\n  'WAITING_TIME': '1 min'},\n {'DESTINATION': 'Airport',\n  'DIRECTION': 'S',\n  'EVENT_TIME': '7/05/2023 11:16:57 PM',\n  'LINE': 'GOLD',\n  'NEXT_ARR': '11:19:44 PM',\n  'STATION': 'MIDTOWN STATION',\n  'TRAIN_ID': '302506',\n  'WAITING_SECONDS': '154',\n  'WAITING_TIME': '2 min'},\n {'DESTINATION': 'Airport',\n  'DIRECTION': 'S',\n  'EVENT_TIME': '7/05/2023 11:16:57 PM',\n  'LINE': 'GOLD',\n  'NEXT_ARR': '11:21:21 PM',\n  'STATION': 'NORTH AVE STATION',\n  'TRAIN_ID': '302506',\n  'WAITING_SECONDS': '251',\n  'WAITING_TIME': '4 min'},\n {'DESTINATION': 'Airport',\n  'DIRECTION': 'S',\n  'EVENT_TIME': '7/05/2023 11:16:57 PM',\n  'LINE': 'GOLD',\n  'NEXT_ARR': '11:22:54 PM',\n  'STATION': 'CIVIC CENTER STATION',\n  'TRAIN_ID': '302506',\n  'WAITING_SECONDS': '344',\n  'WAITING_TIME': '5 min'},\n {'DESTINATION': 'Airport',\n  'DIRECTION': 'S',\n  'EVENT_TIME': '7/05/2023 11:16:57 PM',\n  'LINE': 'GOLD',\n  'NEXT_ARR': '11:24:17 PM',\n  'STATION': 'PEACHTREE CENTER STATION',\n  'TRAIN_ID': '302506',\n  'WAITING_SECONDS': '427',\n  'WAITING_TIME': '7 min'},\n {'DESTINATION': 'Airport',\n  'DIRECTION': 'S',\n  'EVENT_TIME': '7/05/2023 11:16:57 PM',\n  'LINE': 'GOLD',\n  'NEXT_ARR': '11:26:19 PM',\n  'STATION': 'FIVE POINTS STATION',\n  'TRAIN_ID': '302506',\n  'WAITING_SECONDS': '549',\n  'WAITING_TIME': '9 min'},\n {'DESTINATION': 'Airport',\n  'DIRECTION': 'S',\n  'EVENT_TIME': '7/05/2023 11:16:57 PM',\n  'LINE': 'GOLD',\n  'NEXT_ARR': '11:28:02 PM',\n  'STATION': 'GARNETT STATION',\n  'TRAIN_ID': '302506',\n  'WAITING_SECONDS': '652',\n  'WAITING_TIME': '10 min'},\n {'DESTINATION': 'Airport',\n  'DIRECTION': 'S',\n  'EVENT_TIME': '7/05/2023 11:16:57 PM',\n  'LINE': 'GOLD',\n  'NEXT_ARR': '11:30:45 PM',\n  'STATION': 'WEST END STATION',\n  'TRAIN_ID': '302506',\n  'WAITING_SECONDS': '815',\n  'WAITING_TIME': '13 min'},\n {'DESTINATION': 'Airport',\n  'DIRECTION': 'S',\n  'EVENT_TIME': '7/05/2023 11:16:57 PM',\n  'LINE': 'GOLD',\n  'NEXT_ARR': '11:33:18 PM',\n  'STATION': 'OAKLAND CITY STATION',\n  'TRAIN_ID': '302506',\n  'WAITING_SECONDS': '968',\n  'WAITING_TIME': '16 min'},\n {'DESTINATION': 'Airport',\n  'DIRECTION': 'S',\n  'EVENT_TIME': '7/05/2023 11:16:57 PM',\n  'LINE': 'GOLD',\n  'NEXT_ARR': '11:35:31 PM',\n  'STATION': 'LAKEWOOD STATION',\n  'TRAIN_ID': '302506',\n  'WAITING_SECONDS': '1101',\n  'WAITING_TIME': '18 min'},\n {'DESTINATION': 'Airport',\n  'DIRECTION': 'S',\n  'EVENT_TIME': '7/05/2023 11:16:57 PM',\n  'LINE': 'GOLD',\n  'NEXT_ARR': '11:38:19 PM',\n  'STATION': 'EAST POINT STATION',\n  'TRAIN_ID': '302506',\n  'WAITING_SECONDS': '1269',\n  'WAITING_TIME': '21 min'},\n {'DESTINATION': 'Airport',\n  'DIRECTION': 'S',\n  'EVENT_TIME': '7/05/2023 11:16:57 PM',\n  'LINE': 'GOLD',\n  'NEXT_ARR': '11:41:07 PM',\n  'STATION': 'COLLEGE PARK STATION',\n  'TRAIN_ID': '302506',\n  'WAITING_SECONDS': '1437',\n  'WAITING_TIME': '23 min'},\n {'DESTINATION': 'Airport',\n  'DIRECTION': 'S',\n  'EVENT_TIME': '7/05/2023 11:16:57 PM',\n  'LINE': 'GOLD',\n  'NEXT_ARR': '11:43:14 PM',\n  'STATION': 'AIRPORT STATION',\n  'TRAIN_ID': '302506',\n  'WAITING_SECONDS': '1564',\n  'WAITING_TIME': '26 min'},\n {'DESTINATION': 'Hamilton E Holmes',\n  'DIRECTION': 'W',\n  'EVENT_TIME': '7/05/2023 11:17:05 PM',\n  'LINE': 'BLUE',\n  'NEXT_ARR': '11:18:14 PM',\n  'STATION': 'KING MEMORIAL STATION',\n  'TRAIN_ID': '102206',\n  'WAITING_SECONDS': '64',\n  'WAITING_TIME': '1 min'},\n {'DESTINATION': 'Hamilton E Holmes',\n  'DIRECTION': 'W',\n  'EVENT_TIME': '7/05/2023 11:17:05 PM',\n  'LINE': 'BLUE',\n  'NEXT_ARR': '11:20:04 PM',\n  'STATION': 'GEORGIA STATE STATION',\n  'TRAIN_ID': '102206',\n  'WAITING_SECONDS': '174',\n  'WAITING_TIME': '2 min'},\n {'DESTINATION': 'Hamilton E Holmes',\n  'DIRECTION': 'W',\n  'EVENT_TIME': '7/05/2023 11:17:05 PM',\n  'LINE': 'BLUE',\n  'NEXT_ARR': '11:21:24 PM',\n  'STATION': 'FIVE POINTS STATION',\n  'TRAIN_ID': '102206',\n  'WAITING_SECONDS': '254',\n  'WAITING_TIME': '4 min'},\n {'DESTINATION': 'Hamilton E Holmes',\n  'DIRECTION': 'W',\n  'EVENT_TIME': '7/05/2023 11:17:05 PM',\n  'LINE': 'BLUE',\n  'NEXT_ARR': '11:23:04 PM',\n  'STATION': 'OMNI DOME STATION',\n  'TRAIN_ID': '102206',\n  'WAITING_SECONDS': '354',\n  'WAITING_TIME': '5 min'},\n {'DESTINATION': 'Hamilton E Holmes',\n  'DIRECTION': 'W',\n  'EVENT_TIME': '7/05/2023 11:17:05 PM',\n  'LINE': 'BLUE',\n  'NEXT_ARR': '11:24:15 PM',\n  'STATION': 'VINE CITY STATION',\n  'TRAIN_ID': '102206',\n  'WAITING_SECONDS': '425',\n  'WAITING_TIME': '7 min'},\n {'DESTINATION': 'Hamilton E Holmes',\n  'DIRECTION': 'W',\n  'EVENT_TIME': '7/05/2023 11:17:05 PM',\n  'LINE': 'BLUE',\n  'NEXT_ARR': '11:25:45 PM',\n  'STATION': 'ASHBY STATION',\n  'TRAIN_ID': '102206',\n  'WAITING_SECONDS': '515',\n  'WAITING_TIME': '8 min'},\n {'DESTINATION': 'Hamilton E Holmes',\n  'DIRECTION': 'W',\n  'EVENT_TIME': '7/05/2023 11:17:05 PM',\n  'LINE': 'BLUE',\n  'NEXT_ARR': '11:27:53 PM',\n  'STATION': 'WEST LAKE STATION',\n  'TRAIN_ID': '102206',\n  'WAITING_SECONDS': '643',\n  'WAITING_TIME': '10 min'},\n {'DESTINATION': 'Hamilton E Holmes',\n  'DIRECTION': 'W',\n  'EVENT_TIME': '7/05/2023 11:17:05 PM',\n  'LINE': 'BLUE',\n  'NEXT_ARR': '11:30:28 PM',\n  'STATION': 'HAMILTON E HOLMES STATION',\n  'TRAIN_ID': '102206',\n  'WAITING_SECONDS': '798',\n  'WAITING_TIME': '13 min'},\n {'DESTINATION': 'Doraville',\n  'DIRECTION': 'N',\n  'EVENT_TIME': '7/05/2023 11:17:08 PM',\n  'LINE': 'GOLD',\n  'NEXT_ARR': '11:17:29 PM',\n  'STATION': 'FIVE POINTS STATION',\n  'TRAIN_ID': '305326',\n  'WAITING_SECONDS': '19',\n  'WAITING_TIME': 'Arriving'},\n {'DESTINATION': 'Doraville',\n  'DIRECTION': 'N',\n  'EVENT_TIME': '7/05/2023 11:17:08 PM',\n  'LINE': 'GOLD',\n  'NEXT_ARR': '11:19:27 PM',\n  'STATION': 'PEACHTREE CENTER STATION',\n  'TRAIN_ID': '305326',\n  'WAITING_SECONDS': '137',\n  'WAITING_TIME': '2 min'},\n {'DESTINATION': 'Doraville',\n  'DIRECTION': 'N',\n  'EVENT_TIME': '7/05/2023 11:17:08 PM',\n  'LINE': 'GOLD',\n  'NEXT_ARR': '11:21:02 PM',\n  'STATION': 'CIVIC CENTER STATION',\n  'TRAIN_ID': '305326',\n  'WAITING_SECONDS': '232',\n  'WAITING_TIME': '3 min'},\n {'DESTINATION': 'Doraville',\n  'DIRECTION': 'N',\n  'EVENT_TIME': '7/05/2023 11:17:08 PM',\n  'LINE': 'GOLD',\n  'NEXT_ARR': '11:22:08 PM',\n  'STATION': 'NORTH AVE STATION',\n  'TRAIN_ID': '305326',\n  'WAITING_SECONDS': '298',\n  'WAITING_TIME': '4 min'},\n {'DESTINATION': 'Doraville',\n  'DIRECTION': 'N',\n  'EVENT_TIME': '7/05/2023 11:17:08 PM',\n  'LINE': 'GOLD',\n  'NEXT_ARR': '11:23:55 PM',\n  'STATION': 'MIDTOWN STATION',\n  'TRAIN_ID': '305326',\n  'WAITING_SECONDS': '405',\n  'WAITING_TIME': '6 min'},\n {'DESTINATION': 'Doraville',\n  'DIRECTION': 'N',\n  'EVENT_TIME': '7/05/2023 11:17:08 PM',\n  'LINE': 'GOLD',\n  'NEXT_ARR': '11:25:35 PM',\n  'STATION': 'ARTS CENTER STATION',\n  'TRAIN_ID': '305326',\n  'WAITING_SECONDS': '505',\n  'WAITING_TIME': '8 min'},\n {'DESTINATION': 'Doraville',\n  'DIRECTION': 'N',\n  'EVENT_TIME': '7/05/2023 11:17:08 PM',\n  'LINE': 'GOLD',\n  'NEXT_ARR': '11:29:04 PM',\n  'STATION': 'LINDBERGH STATION',\n  'TRAIN_ID': '305326',\n  'WAITING_SECONDS': '714',\n  'WAITING_TIME': '11 min'},\n {'DESTINATION': 'Doraville',\n  'DIRECTION': 'N',\n  'EVENT_TIME': '7/05/2023 11:17:08 PM',\n  'LINE': 'GOLD',\n  'NEXT_ARR': '11:32:47 PM',\n  'STATION': 'LENOX STATION',\n  'TRAIN_ID': '305326',\n  'WAITING_SECONDS': '937',\n  'WAITING_TIME': '15 min'},\n {'DESTINATION': 'Doraville',\n  'DIRECTION': 'N',\n  'EVENT_TIME': '7/05/2023 11:17:08 PM',\n  'LINE': 'GOLD',\n  'NEXT_ARR': '11:35:33 PM',\n  'STATION': 'BROOKHAVEN STATION',\n  'TRAIN_ID': '305326',\n  'WAITING_SECONDS': '1103',\n  'WAITING_TIME': '18 min'},\n {'DESTINATION': 'Doraville',\n  'DIRECTION': 'N',\n  'EVENT_TIME': '7/05/2023 11:17:08 PM',\n  'LINE': 'GOLD',\n  'NEXT_ARR': '11:39:09 PM',\n  'STATION': 'CHAMBLEE STATION',\n  'TRAIN_ID': '305326',\n  'WAITING_SECONDS': '1319',\n  'WAITING_TIME': '21 min'},\n {'DESTINATION': 'Doraville',\n  'DIRECTION': 'N',\n  'EVENT_TIME': '7/05/2023 11:17:08 PM',\n  'LINE': 'GOLD',\n  'NEXT_ARR': '11:42:10 PM',\n  'STATION': 'DORAVILLE STATION',\n  'TRAIN_ID': '305326',\n  'WAITING_SECONDS': '1500',\n  'WAITING_TIME': '25 min'},\n {'DESTINATION': 'Indian Creek',\n  'DIRECTION': 'E',\n  'EVENT_TIME': '7/05/2023 11:17:10 PM',\n  'LINE': 'BLUE',\n  'NEXT_ARR': '11:17:23 PM',\n  'STATION': 'GEORGIA STATE STATION',\n  'TRAIN_ID': '106026',\n  'WAITING_SECONDS': '13',\n  'WAITING_TIME': 'Arriving'},\n {'DESTINATION': 'Indian Creek',\n  'DIRECTION': 'E',\n  'EVENT_TIME': '7/05/2023 11:17:10 PM',\n  'LINE': 'BLUE',\n  'NEXT_ARR': '11:19:10 PM',\n  'STATION': 'KING MEMORIAL STATION',\n  'TRAIN_ID': '106026',\n  'WAITING_SECONDS': '120',\n  'WAITING_TIME': '2 min'},\n {'DESTINATION': 'Indian Creek',\n  'DIRECTION': 'E',\n  'EVENT_TIME': '7/05/2023 11:17:10 PM',\n  'LINE': 'BLUE',\n  'NEXT_ARR': '11:21:41 PM',\n  'STATION': 'INMAN PARK STATION',\n  'TRAIN_ID': '106026',\n  'WAITING_SECONDS': '271',\n  'WAITING_TIME': '4 min'},\n {'DESTINATION': 'Indian Creek',\n  'DIRECTION': 'E',\n  'EVENT_TIME': '7/05/2023 11:17:10 PM',\n  'LINE': 'BLUE',\n  'NEXT_ARR': '11:23:36 PM',\n  'STATION': 'EDGEWOOD CANDLER PARK STATION',\n  'TRAIN_ID': '106026',\n  'WAITING_SECONDS': '386',\n  'WAITING_TIME': '6 min'},\n {'DESTINATION': 'Indian Creek',\n  'DIRECTION': 'E',\n  'EVENT_TIME': '7/05/2023 11:17:10 PM',\n  'LINE': 'BLUE',\n  'NEXT_ARR': '11:26:28 PM',\n  'STATION': 'EAST LAKE STATION',\n  'TRAIN_ID': '106026',\n  'WAITING_SECONDS': '558',\n  'WAITING_TIME': '9 min'},\n {'DESTINATION': 'Indian Creek',\n  'DIRECTION': 'E',\n  'EVENT_TIME': '7/05/2023 11:17:10 PM',\n  'LINE': 'BLUE',\n  'NEXT_ARR': '11:29:52 PM',\n  'STATION': 'DECATUR STATION',\n  'TRAIN_ID': '106026',\n  'WAITING_SECONDS': '762',\n  'WAITING_TIME': '12 min'},\n {'DESTINATION': 'Indian Creek',\n  'DIRECTION': 'E',\n  'EVENT_TIME': '7/05/2023 11:17:10 PM',\n  'LINE': 'BLUE',\n  'NEXT_ARR': '11:32:11 PM',\n  'STATION': 'AVONDALE STATION',\n  'TRAIN_ID': '106026',\n  'WAITING_SECONDS': '901',\n  'WAITING_TIME': '15 min'},\n {'DESTINATION': 'Indian Creek',\n  'DIRECTION': 'E',\n  'EVENT_TIME': '7/05/2023 11:17:10 PM',\n  'LINE': 'BLUE',\n  'NEXT_ARR': '11:35:09 PM',\n  'STATION': 'KENSINGTON STATION',\n  'TRAIN_ID': '106026',\n  'WAITING_SECONDS': '1079',\n  'WAITING_TIME': '17 min'},\n {'DESTINATION': 'Indian Creek',\n  'DIRECTION': 'E',\n  'EVENT_TIME': '7/05/2023 11:17:10 PM',\n  'LINE': 'BLUE',\n  'NEXT_ARR': '11:37:42 PM',\n  'STATION': 'INDIAN CREEK STATION',\n  'TRAIN_ID': '106026',\n  'WAITING_SECONDS': '1232',\n  'WAITING_TIME': '20 min'},\n {'DESTINATION': 'North Springs',\n  'DIRECTION': 'N',\n  'EVENT_TIME': '7/05/2023 11:17:05 PM',\n  'LINE': 'RED',\n  'NEXT_ARR': '11:22:45 PM',\n  'STATION': 'MEDICAL CENTER STATION',\n  'TRAIN_ID': '406306',\n  'WAITING_SECONDS': '335',\n  'WAITING_TIME': '5 min'},\n {'DESTINATION': 'North Springs',\n  'DIRECTION': 'N',\n  'EVENT_TIME': '7/05/2023 11:17:05 PM',\n  'LINE': 'RED',\n  'NEXT_ARR': '11:24:52 PM',\n  'STATION': 'DUNWOODY STATION',\n  'TRAIN_ID': '406306',\n  'WAITING_SECONDS': '462',\n  'WAITING_TIME': '7 min'},\n {'DESTINATION': 'North Springs',\n  'DIRECTION': 'N',\n  'EVENT_TIME': '7/05/2023 11:17:05 PM',\n  'LINE': 'RED',\n  'NEXT_ARR': '11:26:46 PM',\n  'STATION': 'SANDY SPRINGS STATION',\n  'TRAIN_ID': '406306',\n  'WAITING_SECONDS': '576',\n  'WAITING_TIME': '9 min'},\n {'DESTINATION': 'North Springs',\n  'DIRECTION': 'N',\n  'EVENT_TIME': '7/05/2023 11:17:05 PM',\n  'LINE': 'RED',\n  'NEXT_ARR': '11:29:22 PM',\n  'STATION': 'NORTH SPRINGS STATION',\n  'TRAIN_ID': '406306',\n  'WAITING_SECONDS': '732',\n  'WAITING_TIME': '12 min'},\n {'DESTINATION': 'North Springs',\n  'DIRECTION': 'N',\n  'EVENT_TIME': '7/05/2023 11:17:05 PM',\n  'LINE': 'RED',\n  'NEXT_ARR': '11:17:10 PM',\n  'STATION': 'BUCKHEAD STATION',\n  'TRAIN_ID': '406306',\n  'WAITING_SECONDS': '0',\n  'WAITING_TIME': 'Arriving'}]"
     },
     "execution_count": 25,
     "metadata": {},
     "output_type": "execute_result"
    }
   ],
   "source": [
    "trains_url_2 = f\"http://developer.itsmarta.com/RealtimeTrain/RestServiceNextTrain/GetRealtimeArrivals?apikey={api_key}\"\n",
    "\n",
    "response = requests.get(trains_url_2)\n",
    "train = json.loads(response.text)\n",
    "train"
   ],
   "metadata": {
    "collapsed": false,
    "ExecuteTime": {
     "end_time": "2023-07-06T03:17:15.611036Z",
     "start_time": "2023-07-06T03:17:15.515891Z"
    }
   }
  }
 ],
 "metadata": {
  "kernelspec": {
   "display_name": "Python 3",
   "language": "python",
   "name": "python3"
  },
  "language_info": {
   "codemirror_mode": {
    "name": "ipython",
    "version": 2
   },
   "file_extension": ".py",
   "mimetype": "text/x-python",
   "name": "python",
   "nbconvert_exporter": "python",
   "pygments_lexer": "ipython2",
   "version": "2.7.6"
  }
 },
 "nbformat": 4,
 "nbformat_minor": 0
}
