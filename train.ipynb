{
 "cells": [
  {
   "cell_type": "code",
   "execution_count": 2,
   "metadata": {
    "collapsed": true,
    "ExecuteTime": {
     "end_time": "2023-07-06T19:33:41.854247Z",
     "start_time": "2023-07-06T19:33:40.810100Z"
    }
   },
   "outputs": [],
   "source": [
    "import requests\n",
    "import json\n",
    "from config import api_key\n",
    "import pandas as pd"
   ]
  },
  {
   "cell_type": "code",
   "execution_count": 4,
   "outputs": [
    {
     "name": "stderr",
     "output_type": "stream",
     "text": [
      "/opt/anaconda3/lib/python3.9/site-packages/urllib3/connectionpool.py:1045: InsecureRequestWarning: Unverified HTTPS request is being made to host 'developerservices.itsmarta.com'. Adding certificate verification is strongly advised. See: https://urllib3.readthedocs.io/en/1.26.x/advanced-usage.html#ssl-warnings\n",
      "  warnings.warn(\n"
     ]
    },
    {
     "data": {
      "text/plain": "       DESTINATION DIRECTION            EVENT_TIME        HEAD_SIGN  LINE  \\\n0    NORTH SPRINGS         N  2023-07-06T15:42:27Z      ARTS CENTER   RED   \n1    NORTH SPRINGS         N  2023-07-06T15:42:27Z         BUCKHEAD   RED   \n2    NORTH SPRINGS         N  2023-07-06T15:42:27Z     CIVIC CENTER   RED   \n3    NORTH SPRINGS         N  2023-07-06T15:42:27Z       EAST POINT   RED   \n4    NORTH SPRINGS         N  2023-07-06T15:42:27Z  FIVE POINTS N-S   RED   \n..             ...       ...                   ...              ...   ...   \n203   INDIAN CREEK         E  2023-07-06T15:34:26Z       INMAN PARK  BLUE   \n204   INDIAN CREEK         E  2023-07-06T15:34:26Z       KENSINGTON  BLUE   \n205   INDIAN CREEK         E  2023-07-06T15:34:26Z    KING MEMORIAL  BLUE   \n206   INDIAN CREEK         E  2023-07-06T15:34:26Z        VINE CITY  BLUE   \n207   INDIAN CREEK         E  2023-07-06T15:34:26Z        WEST LAKE  BLUE   \n\n                 NEXT_ARR                STATION TRAIN_ID WAITING_SECONDS  \\\n0    2023-07-06T16:01:53Z    ARTS CENTER STATION      406            1148   \n1    2023-07-06T16:09:53Z       BUCKHEAD STATION      406            1627   \n2    2023-07-06T15:56:53Z   CIVIC CENTER STATION      406             850   \n3    2023-07-06T15:42:53Z     EAST POINT STATION      406              15   \n4    2023-07-06T15:54:53Z    FIVE POINTS STATION      406             732   \n..                    ...                    ...      ...             ...   \n203  2023-07-06T15:57:40Z     INMAN PARK STATION      102             899   \n204  2023-07-06T16:12:40Z     KENSINGTON STATION      102            1795   \n205  2023-07-06T15:54:40Z  KING MEMORIAL STATION      102             719   \n206  2023-07-06T15:49:40Z      VINE CITY STATION      102             422   \n207  2023-07-06T15:45:40Z      WEST LAKE STATION      102             183   \n\n    WAITING_TIME     RESPONSETIMESTAMP VEHICLELONGITUDE VEHICLELATITUDE DELAY  \\\n0         19 min  2023-07-06T15:42:27Z        33.677983      -84.440277  T13S   \n1         27 min  2023-07-06T15:42:27Z        33.677983      -84.440277  T13S   \n2         14 min  2023-07-06T15:42:27Z        33.677983      -84.440277  T13S   \n3       Arriving  2023-07-06T15:42:27Z        33.677983      -84.440277  T13S   \n4         12 min  2023-07-06T15:42:27Z        33.677983      -84.440277  T13S   \n..           ...                   ...              ...             ...   ...   \n203       14 min  2023-07-06T15:42:28Z        33.754487      -84.469548   T0S   \n204       29 min  2023-07-06T15:42:28Z        33.754487      -84.469548   T0S   \n205       11 min  2023-07-06T15:42:28Z        33.754487      -84.469548   T0S   \n206        7 min  2023-07-06T15:42:28Z        33.754487      -84.469548   T0S   \n207        3 min  2023-07-06T15:42:28Z        33.754487      -84.469548   T0S   \n\n    TRIP_ID  \n0      4050  \n1      4050  \n2      4050  \n3      4050  \n4      4050  \n..      ...  \n203    1049  \n204    1049  \n205    1049  \n206    1049  \n207    1049  \n\n[208 rows x 15 columns]",
      "text/html": "<div>\n<style scoped>\n    .dataframe tbody tr th:only-of-type {\n        vertical-align: middle;\n    }\n\n    .dataframe tbody tr th {\n        vertical-align: top;\n    }\n\n    .dataframe thead th {\n        text-align: right;\n    }\n</style>\n<table border=\"1\" class=\"dataframe\">\n  <thead>\n    <tr style=\"text-align: right;\">\n      <th></th>\n      <th>DESTINATION</th>\n      <th>DIRECTION</th>\n      <th>EVENT_TIME</th>\n      <th>HEAD_SIGN</th>\n      <th>LINE</th>\n      <th>NEXT_ARR</th>\n      <th>STATION</th>\n      <th>TRAIN_ID</th>\n      <th>WAITING_SECONDS</th>\n      <th>WAITING_TIME</th>\n      <th>RESPONSETIMESTAMP</th>\n      <th>VEHICLELONGITUDE</th>\n      <th>VEHICLELATITUDE</th>\n      <th>DELAY</th>\n      <th>TRIP_ID</th>\n    </tr>\n  </thead>\n  <tbody>\n    <tr>\n      <th>0</th>\n      <td>NORTH SPRINGS</td>\n      <td>N</td>\n      <td>2023-07-06T15:42:27Z</td>\n      <td>ARTS CENTER</td>\n      <td>RED</td>\n      <td>2023-07-06T16:01:53Z</td>\n      <td>ARTS CENTER STATION</td>\n      <td>406</td>\n      <td>1148</td>\n      <td>19 min</td>\n      <td>2023-07-06T15:42:27Z</td>\n      <td>33.677983</td>\n      <td>-84.440277</td>\n      <td>T13S</td>\n      <td>4050</td>\n    </tr>\n    <tr>\n      <th>1</th>\n      <td>NORTH SPRINGS</td>\n      <td>N</td>\n      <td>2023-07-06T15:42:27Z</td>\n      <td>BUCKHEAD</td>\n      <td>RED</td>\n      <td>2023-07-06T16:09:53Z</td>\n      <td>BUCKHEAD STATION</td>\n      <td>406</td>\n      <td>1627</td>\n      <td>27 min</td>\n      <td>2023-07-06T15:42:27Z</td>\n      <td>33.677983</td>\n      <td>-84.440277</td>\n      <td>T13S</td>\n      <td>4050</td>\n    </tr>\n    <tr>\n      <th>2</th>\n      <td>NORTH SPRINGS</td>\n      <td>N</td>\n      <td>2023-07-06T15:42:27Z</td>\n      <td>CIVIC CENTER</td>\n      <td>RED</td>\n      <td>2023-07-06T15:56:53Z</td>\n      <td>CIVIC CENTER STATION</td>\n      <td>406</td>\n      <td>850</td>\n      <td>14 min</td>\n      <td>2023-07-06T15:42:27Z</td>\n      <td>33.677983</td>\n      <td>-84.440277</td>\n      <td>T13S</td>\n      <td>4050</td>\n    </tr>\n    <tr>\n      <th>3</th>\n      <td>NORTH SPRINGS</td>\n      <td>N</td>\n      <td>2023-07-06T15:42:27Z</td>\n      <td>EAST POINT</td>\n      <td>RED</td>\n      <td>2023-07-06T15:42:53Z</td>\n      <td>EAST POINT STATION</td>\n      <td>406</td>\n      <td>15</td>\n      <td>Arriving</td>\n      <td>2023-07-06T15:42:27Z</td>\n      <td>33.677983</td>\n      <td>-84.440277</td>\n      <td>T13S</td>\n      <td>4050</td>\n    </tr>\n    <tr>\n      <th>4</th>\n      <td>NORTH SPRINGS</td>\n      <td>N</td>\n      <td>2023-07-06T15:42:27Z</td>\n      <td>FIVE POINTS N-S</td>\n      <td>RED</td>\n      <td>2023-07-06T15:54:53Z</td>\n      <td>FIVE POINTS STATION</td>\n      <td>406</td>\n      <td>732</td>\n      <td>12 min</td>\n      <td>2023-07-06T15:42:27Z</td>\n      <td>33.677983</td>\n      <td>-84.440277</td>\n      <td>T13S</td>\n      <td>4050</td>\n    </tr>\n    <tr>\n      <th>...</th>\n      <td>...</td>\n      <td>...</td>\n      <td>...</td>\n      <td>...</td>\n      <td>...</td>\n      <td>...</td>\n      <td>...</td>\n      <td>...</td>\n      <td>...</td>\n      <td>...</td>\n      <td>...</td>\n      <td>...</td>\n      <td>...</td>\n      <td>...</td>\n      <td>...</td>\n    </tr>\n    <tr>\n      <th>203</th>\n      <td>INDIAN CREEK</td>\n      <td>E</td>\n      <td>2023-07-06T15:34:26Z</td>\n      <td>INMAN PARK</td>\n      <td>BLUE</td>\n      <td>2023-07-06T15:57:40Z</td>\n      <td>INMAN PARK STATION</td>\n      <td>102</td>\n      <td>899</td>\n      <td>14 min</td>\n      <td>2023-07-06T15:42:28Z</td>\n      <td>33.754487</td>\n      <td>-84.469548</td>\n      <td>T0S</td>\n      <td>1049</td>\n    </tr>\n    <tr>\n      <th>204</th>\n      <td>INDIAN CREEK</td>\n      <td>E</td>\n      <td>2023-07-06T15:34:26Z</td>\n      <td>KENSINGTON</td>\n      <td>BLUE</td>\n      <td>2023-07-06T16:12:40Z</td>\n      <td>KENSINGTON STATION</td>\n      <td>102</td>\n      <td>1795</td>\n      <td>29 min</td>\n      <td>2023-07-06T15:42:28Z</td>\n      <td>33.754487</td>\n      <td>-84.469548</td>\n      <td>T0S</td>\n      <td>1049</td>\n    </tr>\n    <tr>\n      <th>205</th>\n      <td>INDIAN CREEK</td>\n      <td>E</td>\n      <td>2023-07-06T15:34:26Z</td>\n      <td>KING MEMORIAL</td>\n      <td>BLUE</td>\n      <td>2023-07-06T15:54:40Z</td>\n      <td>KING MEMORIAL STATION</td>\n      <td>102</td>\n      <td>719</td>\n      <td>11 min</td>\n      <td>2023-07-06T15:42:28Z</td>\n      <td>33.754487</td>\n      <td>-84.469548</td>\n      <td>T0S</td>\n      <td>1049</td>\n    </tr>\n    <tr>\n      <th>206</th>\n      <td>INDIAN CREEK</td>\n      <td>E</td>\n      <td>2023-07-06T15:34:26Z</td>\n      <td>VINE CITY</td>\n      <td>BLUE</td>\n      <td>2023-07-06T15:49:40Z</td>\n      <td>VINE CITY STATION</td>\n      <td>102</td>\n      <td>422</td>\n      <td>7 min</td>\n      <td>2023-07-06T15:42:28Z</td>\n      <td>33.754487</td>\n      <td>-84.469548</td>\n      <td>T0S</td>\n      <td>1049</td>\n    </tr>\n    <tr>\n      <th>207</th>\n      <td>INDIAN CREEK</td>\n      <td>E</td>\n      <td>2023-07-06T15:34:26Z</td>\n      <td>WEST LAKE</td>\n      <td>BLUE</td>\n      <td>2023-07-06T15:45:40Z</td>\n      <td>WEST LAKE STATION</td>\n      <td>102</td>\n      <td>183</td>\n      <td>3 min</td>\n      <td>2023-07-06T15:42:28Z</td>\n      <td>33.754487</td>\n      <td>-84.469548</td>\n      <td>T0S</td>\n      <td>1049</td>\n    </tr>\n  </tbody>\n</table>\n<p>208 rows × 15 columns</p>\n</div>"
     },
     "execution_count": 4,
     "metadata": {},
     "output_type": "execute_result"
    }
   ],
   "source": [
    "trains_url_1 = f\"https://developerservices.itsmarta.com:18096/railrealtimearrivals?apiKey={api_key}\"\n",
    "\n",
    "response = requests.get(trains_url_1, verify=False)\n",
    "\n",
    "data = response.json()['RailArrivals']\n",
    "\n",
    "df = pd.DataFrame(data)\n",
    "df"
   ],
   "metadata": {
    "collapsed": false,
    "ExecuteTime": {
     "end_time": "2023-07-06T19:42:47.616108Z",
     "start_time": "2023-07-06T19:42:47.041609Z"
    }
   }
  },
  {
   "cell_type": "code",
   "execution_count": 5,
   "outputs": [
    {
     "data": {
      "text/plain": "       DESTINATION DIRECTION            EVENT_TIME  LINE    NEXT_ARR  \\\n0    North Springs         N  7/06/2023 4:32:52 PM   RED  4:33:46 PM   \n1    North Springs         N  7/06/2023 4:32:52 PM   RED  4:36:22 PM   \n2          Airport         S  7/06/2023 4:32:01 PM  GOLD  4:35:00 PM   \n3          Airport         S  7/06/2023 4:32:45 PM   RED  4:34:06 PM   \n4          Airport         S  7/06/2023 4:32:45 PM   RED  4:36:54 PM   \n..             ...       ...                   ...   ...         ...   \n150      Doraville         N  7/06/2023 4:32:48 PM  GOLD  5:07:49 PM   \n151      Doraville         N  7/06/2023 4:32:48 PM  GOLD  5:11:25 PM   \n152      Doraville         N  7/06/2023 4:32:48 PM  GOLD  5:14:26 PM   \n153      Doraville         N  7/06/2023 4:32:48 PM  GOLD  4:32:53 PM   \n154   Indian Creek         E  7/06/2023 4:32:50 PM  BLUE  4:32:53 PM   \n\n                   STATION TRAIN_ID WAITING_SECONDS WAITING_TIME  \n0    SANDY SPRINGS STATION   405306              53     Arriving  \n1    NORTH SPRINGS STATION   405306             209        3 min  \n2          AIRPORT STATION   306506             127        2 min  \n3         LAKEWOOD STATION   407506              73        1 min  \n4       EAST POINT STATION   407506             241        4 min  \n..                     ...      ...             ...          ...  \n150     BROOKHAVEN STATION   302326            2096       34 min  \n151       CHAMBLEE STATION   302326            2312       38 min  \n152      DORAVILLE STATION   302326            2493       41 min  \n153        AIRPORT STATION   302326               0     Arriving  \n154          ASHBY STATION   105026               0     Arriving  \n\n[155 rows x 9 columns]",
      "text/html": "<div>\n<style scoped>\n    .dataframe tbody tr th:only-of-type {\n        vertical-align: middle;\n    }\n\n    .dataframe tbody tr th {\n        vertical-align: top;\n    }\n\n    .dataframe thead th {\n        text-align: right;\n    }\n</style>\n<table border=\"1\" class=\"dataframe\">\n  <thead>\n    <tr style=\"text-align: right;\">\n      <th></th>\n      <th>DESTINATION</th>\n      <th>DIRECTION</th>\n      <th>EVENT_TIME</th>\n      <th>LINE</th>\n      <th>NEXT_ARR</th>\n      <th>STATION</th>\n      <th>TRAIN_ID</th>\n      <th>WAITING_SECONDS</th>\n      <th>WAITING_TIME</th>\n    </tr>\n  </thead>\n  <tbody>\n    <tr>\n      <th>0</th>\n      <td>North Springs</td>\n      <td>N</td>\n      <td>7/06/2023 4:32:52 PM</td>\n      <td>RED</td>\n      <td>4:33:46 PM</td>\n      <td>SANDY SPRINGS STATION</td>\n      <td>405306</td>\n      <td>53</td>\n      <td>Arriving</td>\n    </tr>\n    <tr>\n      <th>1</th>\n      <td>North Springs</td>\n      <td>N</td>\n      <td>7/06/2023 4:32:52 PM</td>\n      <td>RED</td>\n      <td>4:36:22 PM</td>\n      <td>NORTH SPRINGS STATION</td>\n      <td>405306</td>\n      <td>209</td>\n      <td>3 min</td>\n    </tr>\n    <tr>\n      <th>2</th>\n      <td>Airport</td>\n      <td>S</td>\n      <td>7/06/2023 4:32:01 PM</td>\n      <td>GOLD</td>\n      <td>4:35:00 PM</td>\n      <td>AIRPORT STATION</td>\n      <td>306506</td>\n      <td>127</td>\n      <td>2 min</td>\n    </tr>\n    <tr>\n      <th>3</th>\n      <td>Airport</td>\n      <td>S</td>\n      <td>7/06/2023 4:32:45 PM</td>\n      <td>RED</td>\n      <td>4:34:06 PM</td>\n      <td>LAKEWOOD STATION</td>\n      <td>407506</td>\n      <td>73</td>\n      <td>1 min</td>\n    </tr>\n    <tr>\n      <th>4</th>\n      <td>Airport</td>\n      <td>S</td>\n      <td>7/06/2023 4:32:45 PM</td>\n      <td>RED</td>\n      <td>4:36:54 PM</td>\n      <td>EAST POINT STATION</td>\n      <td>407506</td>\n      <td>241</td>\n      <td>4 min</td>\n    </tr>\n    <tr>\n      <th>...</th>\n      <td>...</td>\n      <td>...</td>\n      <td>...</td>\n      <td>...</td>\n      <td>...</td>\n      <td>...</td>\n      <td>...</td>\n      <td>...</td>\n      <td>...</td>\n    </tr>\n    <tr>\n      <th>150</th>\n      <td>Doraville</td>\n      <td>N</td>\n      <td>7/06/2023 4:32:48 PM</td>\n      <td>GOLD</td>\n      <td>5:07:49 PM</td>\n      <td>BROOKHAVEN STATION</td>\n      <td>302326</td>\n      <td>2096</td>\n      <td>34 min</td>\n    </tr>\n    <tr>\n      <th>151</th>\n      <td>Doraville</td>\n      <td>N</td>\n      <td>7/06/2023 4:32:48 PM</td>\n      <td>GOLD</td>\n      <td>5:11:25 PM</td>\n      <td>CHAMBLEE STATION</td>\n      <td>302326</td>\n      <td>2312</td>\n      <td>38 min</td>\n    </tr>\n    <tr>\n      <th>152</th>\n      <td>Doraville</td>\n      <td>N</td>\n      <td>7/06/2023 4:32:48 PM</td>\n      <td>GOLD</td>\n      <td>5:14:26 PM</td>\n      <td>DORAVILLE STATION</td>\n      <td>302326</td>\n      <td>2493</td>\n      <td>41 min</td>\n    </tr>\n    <tr>\n      <th>153</th>\n      <td>Doraville</td>\n      <td>N</td>\n      <td>7/06/2023 4:32:48 PM</td>\n      <td>GOLD</td>\n      <td>4:32:53 PM</td>\n      <td>AIRPORT STATION</td>\n      <td>302326</td>\n      <td>0</td>\n      <td>Arriving</td>\n    </tr>\n    <tr>\n      <th>154</th>\n      <td>Indian Creek</td>\n      <td>E</td>\n      <td>7/06/2023 4:32:50 PM</td>\n      <td>BLUE</td>\n      <td>4:32:53 PM</td>\n      <td>ASHBY STATION</td>\n      <td>105026</td>\n      <td>0</td>\n      <td>Arriving</td>\n    </tr>\n  </tbody>\n</table>\n<p>155 rows × 9 columns</p>\n</div>"
     },
     "execution_count": 5,
     "metadata": {},
     "output_type": "execute_result"
    }
   ],
   "source": [
    "trains_url_2 = f\"http://developer.itsmarta.com/RealtimeTrain/RestServiceNextTrain/GetRealtimeArrivals?apikey={api_key}\"\n",
    "\n",
    "response = requests.get(trains_url_2)\n",
    "train = json.loads(response.text)\n",
    "train_df = pd.DataFrame(train)\n",
    "train_df"
   ],
   "metadata": {
    "collapsed": false,
    "ExecuteTime": {
     "end_time": "2023-07-06T20:32:53.756689Z",
     "start_time": "2023-07-06T20:32:53.515827Z"
    }
   }
  }
 ],
 "metadata": {
  "kernelspec": {
   "display_name": "Python 3",
   "language": "python",
   "name": "python3"
  },
  "language_info": {
   "codemirror_mode": {
    "name": "ipython",
    "version": 2
   },
   "file_extension": ".py",
   "mimetype": "text/x-python",
   "name": "python",
   "nbconvert_exporter": "python",
   "pygments_lexer": "ipython2",
   "version": "2.7.6"
  }
 },
 "nbformat": 4,
 "nbformat_minor": 0
}
