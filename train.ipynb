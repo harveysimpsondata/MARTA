{
 "cells": [
  {
   "cell_type": "code",
   "execution_count": 2,
   "metadata": {
    "collapsed": true,
    "ExecuteTime": {
     "end_time": "2023-07-06T19:33:41.854247Z",
     "start_time": "2023-07-06T19:33:40.810100Z"
    }
   },
   "outputs": [],
   "source": [
    "import requests\n",
    "import json\n",
    "from config import api_key\n",
    "import pandas as pd\n"
   ]
  },
  {
   "cell_type": "code",
   "execution_count": 2,
   "outputs": [
    {
     "name": "stdout",
     "output_type": "stream",
     "text": [
      "pkc-619z3.us-east1.gcp.confluent.cloud:9092\n",
      "sasl_ssl\n",
      "PLAIN\n",
      "LL3C4E2VZM4SIT6D\n",
      "0LaUBVU+Nfg1F2rEC0tLzjOzP8b0YiJontZ2fUcyW7+IMavyj+eQyvQZ6Ohv87bn\n"
     ]
    }
   ],
   "source": [],
   "metadata": {
    "collapsed": false,
    "ExecuteTime": {
     "end_time": "2023-07-06T15:26:58.773819Z",
     "start_time": "2023-07-06T15:26:58.770524Z"
    }
   }
  },
  {
   "cell_type": "code",
   "execution_count": 3,
   "outputs": [
    {
     "name": "stderr",
     "output_type": "stream",
     "text": [
      "/opt/anaconda3/lib/python3.9/site-packages/urllib3/connectionpool.py:1045: InsecureRequestWarning: Unverified HTTPS request is being made to host 'developerservices.itsmarta.com'. Adding certificate verification is strongly advised. See: https://urllib3.readthedocs.io/en/1.26.x/advanced-usage.html#ssl-warnings\n",
      "  warnings.warn(\n"
     ]
    },
    {
     "data": {
      "text/plain": "       DESTINATION DIRECTION            EVENT_TIME        HEAD_SIGN   LINE  \\\n0     CANDLER PARK         E  2023-07-06T15:33:26Z     CANDLER PARK  GREEN   \n1     CANDLER PARK         E  2023-07-06T15:33:26Z       INMAN PARK  GREEN   \n2     CANDLER PARK         E  2023-07-06T15:33:26Z    KING MEMORIAL  GREEN   \n3    NORTH SPRINGS         N  2023-07-06T15:33:24Z    NORTH SPRINGS    RED   \n4     INDIAN CREEK         E  2023-07-06T15:33:15Z         AVONDALE   BLUE   \n..             ...       ...                   ...              ...    ...   \n196   CANDLER PARK         E  2023-07-06T15:27:16Z  FIVE POINTS E-W  GREEN   \n197   CANDLER PARK         E  2023-07-06T15:27:16Z    GEORGIA STATE  GREEN   \n198   CANDLER PARK         E  2023-07-06T15:27:16Z       INMAN PARK  GREEN   \n199   CANDLER PARK         E  2023-07-06T15:27:16Z    KING MEMORIAL  GREEN   \n200   CANDLER PARK         E  2023-07-06T15:27:16Z        VINE CITY  GREEN   \n\n                 NEXT_ARR                STATION TRAIN_ID WAITING_SECONDS  \\\n0    2023-07-06T15:41:05Z   CANDLER PARK STATION      204             442   \n1    2023-07-06T15:38:05Z     INMAN PARK STATION      204             263   \n2    2023-07-06T15:35:05Z  KING MEMORIAL STATION      204              84   \n3    2023-07-06T15:35:44Z  NORTH SPRINGS STATION      402             126   \n4    2023-07-06T15:40:35Z       AVONDALE STATION      106             415   \n..                    ...                    ...      ...             ...   \n196  2023-07-06T15:44:40Z    FIVE POINTS STATION      203             666   \n197  2023-07-06T15:45:40Z  GEORGIA STATE STATION      203             726   \n198  2023-07-06T15:50:40Z     INMAN PARK STATION      203            1025   \n199  2023-07-06T15:47:40Z  KING MEMORIAL STATION      203             845   \n200  2023-07-06T15:42:40Z      VINE CITY STATION      203             535   \n\n    WAITING_TIME     RESPONSETIMESTAMP VEHICLELONGITUDE VEHICLELATITUDE  \\\n0          7 min  2023-07-06T15:33:39Z        33.748811      -84.382892   \n1          4 min  2023-07-06T15:33:39Z        33.748811      -84.382892   \n2          1 min  2023-07-06T15:33:39Z        33.748811      -84.382892   \n3          2 min  2023-07-06T15:33:35Z        33.932126       -84.35131   \n4          6 min  2023-07-06T15:33:37Z        33.765221       -84.31235   \n..           ...                   ...              ...             ...   \n196       11 min  2023-07-06T15:33:27Z        33.772377      -84.429007   \n197       12 min  2023-07-06T15:33:27Z        33.772377      -84.429007   \n198       17 min  2023-07-06T15:33:27Z        33.772377      -84.429007   \n199       14 min  2023-07-06T15:33:27Z        33.772377      -84.429007   \n200        8 min  2023-07-06T15:33:39Z        33.772377      -84.429007   \n\n     DELAY TRIP_ID  \n0    T145S    2044  \n1    T145S    2044  \n2    T145S    2044  \n3      T4S    4047  \n4     T55S    1047  \n..     ...     ...  \n196    T0S    2045  \n197    T0S    2045  \n198    T0S    2045  \n199    T0S    2045  \n200    T0S    2045  \n\n[201 rows x 15 columns]",
      "text/html": "<div>\n<style scoped>\n    .dataframe tbody tr th:only-of-type {\n        vertical-align: middle;\n    }\n\n    .dataframe tbody tr th {\n        vertical-align: top;\n    }\n\n    .dataframe thead th {\n        text-align: right;\n    }\n</style>\n<table border=\"1\" class=\"dataframe\">\n  <thead>\n    <tr style=\"text-align: right;\">\n      <th></th>\n      <th>DESTINATION</th>\n      <th>DIRECTION</th>\n      <th>EVENT_TIME</th>\n      <th>HEAD_SIGN</th>\n      <th>LINE</th>\n      <th>NEXT_ARR</th>\n      <th>STATION</th>\n      <th>TRAIN_ID</th>\n      <th>WAITING_SECONDS</th>\n      <th>WAITING_TIME</th>\n      <th>RESPONSETIMESTAMP</th>\n      <th>VEHICLELONGITUDE</th>\n      <th>VEHICLELATITUDE</th>\n      <th>DELAY</th>\n      <th>TRIP_ID</th>\n    </tr>\n  </thead>\n  <tbody>\n    <tr>\n      <th>0</th>\n      <td>CANDLER PARK</td>\n      <td>E</td>\n      <td>2023-07-06T15:33:26Z</td>\n      <td>CANDLER PARK</td>\n      <td>GREEN</td>\n      <td>2023-07-06T15:41:05Z</td>\n      <td>CANDLER PARK STATION</td>\n      <td>204</td>\n      <td>442</td>\n      <td>7 min</td>\n      <td>2023-07-06T15:33:39Z</td>\n      <td>33.748811</td>\n      <td>-84.382892</td>\n      <td>T145S</td>\n      <td>2044</td>\n    </tr>\n    <tr>\n      <th>1</th>\n      <td>CANDLER PARK</td>\n      <td>E</td>\n      <td>2023-07-06T15:33:26Z</td>\n      <td>INMAN PARK</td>\n      <td>GREEN</td>\n      <td>2023-07-06T15:38:05Z</td>\n      <td>INMAN PARK STATION</td>\n      <td>204</td>\n      <td>263</td>\n      <td>4 min</td>\n      <td>2023-07-06T15:33:39Z</td>\n      <td>33.748811</td>\n      <td>-84.382892</td>\n      <td>T145S</td>\n      <td>2044</td>\n    </tr>\n    <tr>\n      <th>2</th>\n      <td>CANDLER PARK</td>\n      <td>E</td>\n      <td>2023-07-06T15:33:26Z</td>\n      <td>KING MEMORIAL</td>\n      <td>GREEN</td>\n      <td>2023-07-06T15:35:05Z</td>\n      <td>KING MEMORIAL STATION</td>\n      <td>204</td>\n      <td>84</td>\n      <td>1 min</td>\n      <td>2023-07-06T15:33:39Z</td>\n      <td>33.748811</td>\n      <td>-84.382892</td>\n      <td>T145S</td>\n      <td>2044</td>\n    </tr>\n    <tr>\n      <th>3</th>\n      <td>NORTH SPRINGS</td>\n      <td>N</td>\n      <td>2023-07-06T15:33:24Z</td>\n      <td>NORTH SPRINGS</td>\n      <td>RED</td>\n      <td>2023-07-06T15:35:44Z</td>\n      <td>NORTH SPRINGS STATION</td>\n      <td>402</td>\n      <td>126</td>\n      <td>2 min</td>\n      <td>2023-07-06T15:33:35Z</td>\n      <td>33.932126</td>\n      <td>-84.35131</td>\n      <td>T4S</td>\n      <td>4047</td>\n    </tr>\n    <tr>\n      <th>4</th>\n      <td>INDIAN CREEK</td>\n      <td>E</td>\n      <td>2023-07-06T15:33:15Z</td>\n      <td>AVONDALE</td>\n      <td>BLUE</td>\n      <td>2023-07-06T15:40:35Z</td>\n      <td>AVONDALE STATION</td>\n      <td>106</td>\n      <td>415</td>\n      <td>6 min</td>\n      <td>2023-07-06T15:33:37Z</td>\n      <td>33.765221</td>\n      <td>-84.31235</td>\n      <td>T55S</td>\n      <td>1047</td>\n    </tr>\n    <tr>\n      <th>...</th>\n      <td>...</td>\n      <td>...</td>\n      <td>...</td>\n      <td>...</td>\n      <td>...</td>\n      <td>...</td>\n      <td>...</td>\n      <td>...</td>\n      <td>...</td>\n      <td>...</td>\n      <td>...</td>\n      <td>...</td>\n      <td>...</td>\n      <td>...</td>\n      <td>...</td>\n    </tr>\n    <tr>\n      <th>196</th>\n      <td>CANDLER PARK</td>\n      <td>E</td>\n      <td>2023-07-06T15:27:16Z</td>\n      <td>FIVE POINTS E-W</td>\n      <td>GREEN</td>\n      <td>2023-07-06T15:44:40Z</td>\n      <td>FIVE POINTS STATION</td>\n      <td>203</td>\n      <td>666</td>\n      <td>11 min</td>\n      <td>2023-07-06T15:33:27Z</td>\n      <td>33.772377</td>\n      <td>-84.429007</td>\n      <td>T0S</td>\n      <td>2045</td>\n    </tr>\n    <tr>\n      <th>197</th>\n      <td>CANDLER PARK</td>\n      <td>E</td>\n      <td>2023-07-06T15:27:16Z</td>\n      <td>GEORGIA STATE</td>\n      <td>GREEN</td>\n      <td>2023-07-06T15:45:40Z</td>\n      <td>GEORGIA STATE STATION</td>\n      <td>203</td>\n      <td>726</td>\n      <td>12 min</td>\n      <td>2023-07-06T15:33:27Z</td>\n      <td>33.772377</td>\n      <td>-84.429007</td>\n      <td>T0S</td>\n      <td>2045</td>\n    </tr>\n    <tr>\n      <th>198</th>\n      <td>CANDLER PARK</td>\n      <td>E</td>\n      <td>2023-07-06T15:27:16Z</td>\n      <td>INMAN PARK</td>\n      <td>GREEN</td>\n      <td>2023-07-06T15:50:40Z</td>\n      <td>INMAN PARK STATION</td>\n      <td>203</td>\n      <td>1025</td>\n      <td>17 min</td>\n      <td>2023-07-06T15:33:27Z</td>\n      <td>33.772377</td>\n      <td>-84.429007</td>\n      <td>T0S</td>\n      <td>2045</td>\n    </tr>\n    <tr>\n      <th>199</th>\n      <td>CANDLER PARK</td>\n      <td>E</td>\n      <td>2023-07-06T15:27:16Z</td>\n      <td>KING MEMORIAL</td>\n      <td>GREEN</td>\n      <td>2023-07-06T15:47:40Z</td>\n      <td>KING MEMORIAL STATION</td>\n      <td>203</td>\n      <td>845</td>\n      <td>14 min</td>\n      <td>2023-07-06T15:33:27Z</td>\n      <td>33.772377</td>\n      <td>-84.429007</td>\n      <td>T0S</td>\n      <td>2045</td>\n    </tr>\n    <tr>\n      <th>200</th>\n      <td>CANDLER PARK</td>\n      <td>E</td>\n      <td>2023-07-06T15:27:16Z</td>\n      <td>VINE CITY</td>\n      <td>GREEN</td>\n      <td>2023-07-06T15:42:40Z</td>\n      <td>VINE CITY STATION</td>\n      <td>203</td>\n      <td>535</td>\n      <td>8 min</td>\n      <td>2023-07-06T15:33:39Z</td>\n      <td>33.772377</td>\n      <td>-84.429007</td>\n      <td>T0S</td>\n      <td>2045</td>\n    </tr>\n  </tbody>\n</table>\n<p>201 rows × 15 columns</p>\n</div>"
     },
     "execution_count": 3,
     "metadata": {},
     "output_type": "execute_result"
    }
   ],
   "source": [
    "trains_url_1 = f\"https://developerservices.itsmarta.com:18096/railrealtimearrivals?apiKey={api_key}\"\n",
    "\n",
    "response = requests.get(trains_url_1, verify=False)\n",
    "\n",
    "data = response.json()['RailArrivals']\n",
    "data\n",
    "df = pd.DataFrame(data)\n",
    "\n",
    "df"
   ],
   "metadata": {
    "collapsed": false,
    "ExecuteTime": {
     "end_time": "2023-07-06T19:33:48.540915Z",
     "start_time": "2023-07-06T19:33:44.040737Z"
    }
   }
  },
  {
   "cell_type": "code",
   "execution_count": 25,
   "outputs": [
    {
     "data": {
      "text/plain": "[{'DESTINATION': 'Doraville',\n  'DIRECTION': 'N',\n  'EVENT_TIME': '7/05/2023 11:16:11 PM',\n  'LINE': 'GOLD',\n  'NEXT_ARR': '11:20:11 PM',\n  'STATION': 'DORAVILLE STATION',\n  'TRAIN_ID': '304326',\n  'WAITING_SECONDS': '181',\n  'WAITING_TIME': '3 min'},\n {'DESTINATION': 'Airport',\n  'DIRECTION': 'S',\n  'EVENT_TIME': '7/05/2023 11:16:23 PM',\n  'LINE': 'GOLD',\n  'NEXT_ARR': '11:19:17 PM',\n  'STATION': 'AIRPORT STATION',\n  'TRAIN_ID': '301506',\n  'WAITING_SECONDS': '127',\n  'WAITING_TIME': '2 min'},\n {'DESTINATION': 'Lindbergh',\n  'DIRECTION': 'S',\n  'EVENT_TIME': '7/05/2023 11:17:03 PM',\n  'LINE': 'RED',\n  'NEXT_ARR': '11:17:50 PM',\n  'STATION': 'BUCKHEAD STATION',\n  'TRAIN_ID': '402366',\n  'WAITING_SECONDS': '40',\n  'WAITING_TIME': 'Arriving'},\n {'DESTINATION': 'Lindbergh',\n  'DIRECTION': 'S',\n  'EVENT_TIME': '7/05/2023 11:17:03 PM',\n  'LINE': 'RED',\n  'NEXT_ARR': '11:21:34 PM',\n  'STATION': 'LINDBERGH STATION',\n  'TRAIN_ID': '402366',\n  'WAITING_SECONDS': '264',\n  'WAITING_TIME': '4 min'},\n {'DESTINATION': 'Airport',\n  'DIRECTION': 'S',\n  'EVENT_TIME': '7/05/2023 11:16:57 PM',\n  'LINE': 'GOLD',\n  'NEXT_ARR': '11:18:12 PM',\n  'STATION': 'ARTS CENTER STATION',\n  'TRAIN_ID': '302506',\n  'WAITING_SECONDS': '62',\n  'WAITING_TIME': '1 min'},\n {'DESTINATION': 'Airport',\n  'DIRECTION': 'S',\n  'EVENT_TIME': '7/05/2023 11:16:57 PM',\n  'LINE': 'GOLD',\n  'NEXT_ARR': '11:19:44 PM',\n  'STATION': 'MIDTOWN STATION',\n  'TRAIN_ID': '302506',\n  'WAITING_SECONDS': '154',\n  'WAITING_TIME': '2 min'},\n {'DESTINATION': 'Airport',\n  'DIRECTION': 'S',\n  'EVENT_TIME': '7/05/2023 11:16:57 PM',\n  'LINE': 'GOLD',\n  'NEXT_ARR': '11:21:21 PM',\n  'STATION': 'NORTH AVE STATION',\n  'TRAIN_ID': '302506',\n  'WAITING_SECONDS': '251',\n  'WAITING_TIME': '4 min'},\n {'DESTINATION': 'Airport',\n  'DIRECTION': 'S',\n  'EVENT_TIME': '7/05/2023 11:16:57 PM',\n  'LINE': 'GOLD',\n  'NEXT_ARR': '11:22:54 PM',\n  'STATION': 'CIVIC CENTER STATION',\n  'TRAIN_ID': '302506',\n  'WAITING_SECONDS': '344',\n  'WAITING_TIME': '5 min'},\n {'DESTINATION': 'Airport',\n  'DIRECTION': 'S',\n  'EVENT_TIME': '7/05/2023 11:16:57 PM',\n  'LINE': 'GOLD',\n  'NEXT_ARR': '11:24:17 PM',\n  'STATION': 'PEACHTREE CENTER STATION',\n  'TRAIN_ID': '302506',\n  'WAITING_SECONDS': '427',\n  'WAITING_TIME': '7 min'},\n {'DESTINATION': 'Airport',\n  'DIRECTION': 'S',\n  'EVENT_TIME': '7/05/2023 11:16:57 PM',\n  'LINE': 'GOLD',\n  'NEXT_ARR': '11:26:19 PM',\n  'STATION': 'FIVE POINTS STATION',\n  'TRAIN_ID': '302506',\n  'WAITING_SECONDS': '549',\n  'WAITING_TIME': '9 min'},\n {'DESTINATION': 'Airport',\n  'DIRECTION': 'S',\n  'EVENT_TIME': '7/05/2023 11:16:57 PM',\n  'LINE': 'GOLD',\n  'NEXT_ARR': '11:28:02 PM',\n  'STATION': 'GARNETT STATION',\n  'TRAIN_ID': '302506',\n  'WAITING_SECONDS': '652',\n  'WAITING_TIME': '10 min'},\n {'DESTINATION': 'Airport',\n  'DIRECTION': 'S',\n  'EVENT_TIME': '7/05/2023 11:16:57 PM',\n  'LINE': 'GOLD',\n  'NEXT_ARR': '11:30:45 PM',\n  'STATION': 'WEST END STATION',\n  'TRAIN_ID': '302506',\n  'WAITING_SECONDS': '815',\n  'WAITING_TIME': '13 min'},\n {'DESTINATION': 'Airport',\n  'DIRECTION': 'S',\n  'EVENT_TIME': '7/05/2023 11:16:57 PM',\n  'LINE': 'GOLD',\n  'NEXT_ARR': '11:33:18 PM',\n  'STATION': 'OAKLAND CITY STATION',\n  'TRAIN_ID': '302506',\n  'WAITING_SECONDS': '968',\n  'WAITING_TIME': '16 min'},\n {'DESTINATION': 'Airport',\n  'DIRECTION': 'S',\n  'EVENT_TIME': '7/05/2023 11:16:57 PM',\n  'LINE': 'GOLD',\n  'NEXT_ARR': '11:35:31 PM',\n  'STATION': 'LAKEWOOD STATION',\n  'TRAIN_ID': '302506',\n  'WAITING_SECONDS': '1101',\n  'WAITING_TIME': '18 min'},\n {'DESTINATION': 'Airport',\n  'DIRECTION': 'S',\n  'EVENT_TIME': '7/05/2023 11:16:57 PM',\n  'LINE': 'GOLD',\n  'NEXT_ARR': '11:38:19 PM',\n  'STATION': 'EAST POINT STATION',\n  'TRAIN_ID': '302506',\n  'WAITING_SECONDS': '1269',\n  'WAITING_TIME': '21 min'},\n {'DESTINATION': 'Airport',\n  'DIRECTION': 'S',\n  'EVENT_TIME': '7/05/2023 11:16:57 PM',\n  'LINE': 'GOLD',\n  'NEXT_ARR': '11:41:07 PM',\n  'STATION': 'COLLEGE PARK STATION',\n  'TRAIN_ID': '302506',\n  'WAITING_SECONDS': '1437',\n  'WAITING_TIME': '23 min'},\n {'DESTINATION': 'Airport',\n  'DIRECTION': 'S',\n  'EVENT_TIME': '7/05/2023 11:16:57 PM',\n  'LINE': 'GOLD',\n  'NEXT_ARR': '11:43:14 PM',\n  'STATION': 'AIRPORT STATION',\n  'TRAIN_ID': '302506',\n  'WAITING_SECONDS': '1564',\n  'WAITING_TIME': '26 min'},\n {'DESTINATION': 'Hamilton E Holmes',\n  'DIRECTION': 'W',\n  'EVENT_TIME': '7/05/2023 11:17:05 PM',\n  'LINE': 'BLUE',\n  'NEXT_ARR': '11:18:14 PM',\n  'STATION': 'KING MEMORIAL STATION',\n  'TRAIN_ID': '102206',\n  'WAITING_SECONDS': '64',\n  'WAITING_TIME': '1 min'},\n {'DESTINATION': 'Hamilton E Holmes',\n  'DIRECTION': 'W',\n  'EVENT_TIME': '7/05/2023 11:17:05 PM',\n  'LINE': 'BLUE',\n  'NEXT_ARR': '11:20:04 PM',\n  'STATION': 'GEORGIA STATE STATION',\n  'TRAIN_ID': '102206',\n  'WAITING_SECONDS': '174',\n  'WAITING_TIME': '2 min'},\n {'DESTINATION': 'Hamilton E Holmes',\n  'DIRECTION': 'W',\n  'EVENT_TIME': '7/05/2023 11:17:05 PM',\n  'LINE': 'BLUE',\n  'NEXT_ARR': '11:21:24 PM',\n  'STATION': 'FIVE POINTS STATION',\n  'TRAIN_ID': '102206',\n  'WAITING_SECONDS': '254',\n  'WAITING_TIME': '4 min'},\n {'DESTINATION': 'Hamilton E Holmes',\n  'DIRECTION': 'W',\n  'EVENT_TIME': '7/05/2023 11:17:05 PM',\n  'LINE': 'BLUE',\n  'NEXT_ARR': '11:23:04 PM',\n  'STATION': 'OMNI DOME STATION',\n  'TRAIN_ID': '102206',\n  'WAITING_SECONDS': '354',\n  'WAITING_TIME': '5 min'},\n {'DESTINATION': 'Hamilton E Holmes',\n  'DIRECTION': 'W',\n  'EVENT_TIME': '7/05/2023 11:17:05 PM',\n  'LINE': 'BLUE',\n  'NEXT_ARR': '11:24:15 PM',\n  'STATION': 'VINE CITY STATION',\n  'TRAIN_ID': '102206',\n  'WAITING_SECONDS': '425',\n  'WAITING_TIME': '7 min'},\n {'DESTINATION': 'Hamilton E Holmes',\n  'DIRECTION': 'W',\n  'EVENT_TIME': '7/05/2023 11:17:05 PM',\n  'LINE': 'BLUE',\n  'NEXT_ARR': '11:25:45 PM',\n  'STATION': 'ASHBY STATION',\n  'TRAIN_ID': '102206',\n  'WAITING_SECONDS': '515',\n  'WAITING_TIME': '8 min'},\n {'DESTINATION': 'Hamilton E Holmes',\n  'DIRECTION': 'W',\n  'EVENT_TIME': '7/05/2023 11:17:05 PM',\n  'LINE': 'BLUE',\n  'NEXT_ARR': '11:27:53 PM',\n  'STATION': 'WEST LAKE STATION',\n  'TRAIN_ID': '102206',\n  'WAITING_SECONDS': '643',\n  'WAITING_TIME': '10 min'},\n {'DESTINATION': 'Hamilton E Holmes',\n  'DIRECTION': 'W',\n  'EVENT_TIME': '7/05/2023 11:17:05 PM',\n  'LINE': 'BLUE',\n  'NEXT_ARR': '11:30:28 PM',\n  'STATION': 'HAMILTON E HOLMES STATION',\n  'TRAIN_ID': '102206',\n  'WAITING_SECONDS': '798',\n  'WAITING_TIME': '13 min'},\n {'DESTINATION': 'Doraville',\n  'DIRECTION': 'N',\n  'EVENT_TIME': '7/05/2023 11:17:08 PM',\n  'LINE': 'GOLD',\n  'NEXT_ARR': '11:17:29 PM',\n  'STATION': 'FIVE POINTS STATION',\n  'TRAIN_ID': '305326',\n  'WAITING_SECONDS': '19',\n  'WAITING_TIME': 'Arriving'},\n {'DESTINATION': 'Doraville',\n  'DIRECTION': 'N',\n  'EVENT_TIME': '7/05/2023 11:17:08 PM',\n  'LINE': 'GOLD',\n  'NEXT_ARR': '11:19:27 PM',\n  'STATION': 'PEACHTREE CENTER STATION',\n  'TRAIN_ID': '305326',\n  'WAITING_SECONDS': '137',\n  'WAITING_TIME': '2 min'},\n {'DESTINATION': 'Doraville',\n  'DIRECTION': 'N',\n  'EVENT_TIME': '7/05/2023 11:17:08 PM',\n  'LINE': 'GOLD',\n  'NEXT_ARR': '11:21:02 PM',\n  'STATION': 'CIVIC CENTER STATION',\n  'TRAIN_ID': '305326',\n  'WAITING_SECONDS': '232',\n  'WAITING_TIME': '3 min'},\n {'DESTINATION': 'Doraville',\n  'DIRECTION': 'N',\n  'EVENT_TIME': '7/05/2023 11:17:08 PM',\n  'LINE': 'GOLD',\n  'NEXT_ARR': '11:22:08 PM',\n  'STATION': 'NORTH AVE STATION',\n  'TRAIN_ID': '305326',\n  'WAITING_SECONDS': '298',\n  'WAITING_TIME': '4 min'},\n {'DESTINATION': 'Doraville',\n  'DIRECTION': 'N',\n  'EVENT_TIME': '7/05/2023 11:17:08 PM',\n  'LINE': 'GOLD',\n  'NEXT_ARR': '11:23:55 PM',\n  'STATION': 'MIDTOWN STATION',\n  'TRAIN_ID': '305326',\n  'WAITING_SECONDS': '405',\n  'WAITING_TIME': '6 min'},\n {'DESTINATION': 'Doraville',\n  'DIRECTION': 'N',\n  'EVENT_TIME': '7/05/2023 11:17:08 PM',\n  'LINE': 'GOLD',\n  'NEXT_ARR': '11:25:35 PM',\n  'STATION': 'ARTS CENTER STATION',\n  'TRAIN_ID': '305326',\n  'WAITING_SECONDS': '505',\n  'WAITING_TIME': '8 min'},\n {'DESTINATION': 'Doraville',\n  'DIRECTION': 'N',\n  'EVENT_TIME': '7/05/2023 11:17:08 PM',\n  'LINE': 'GOLD',\n  'NEXT_ARR': '11:29:04 PM',\n  'STATION': 'LINDBERGH STATION',\n  'TRAIN_ID': '305326',\n  'WAITING_SECONDS': '714',\n  'WAITING_TIME': '11 min'},\n {'DESTINATION': 'Doraville',\n  'DIRECTION': 'N',\n  'EVENT_TIME': '7/05/2023 11:17:08 PM',\n  'LINE': 'GOLD',\n  'NEXT_ARR': '11:32:47 PM',\n  'STATION': 'LENOX STATION',\n  'TRAIN_ID': '305326',\n  'WAITING_SECONDS': '937',\n  'WAITING_TIME': '15 min'},\n {'DESTINATION': 'Doraville',\n  'DIRECTION': 'N',\n  'EVENT_TIME': '7/05/2023 11:17:08 PM',\n  'LINE': 'GOLD',\n  'NEXT_ARR': '11:35:33 PM',\n  'STATION': 'BROOKHAVEN STATION',\n  'TRAIN_ID': '305326',\n  'WAITING_SECONDS': '1103',\n  'WAITING_TIME': '18 min'},\n {'DESTINATION': 'Doraville',\n  'DIRECTION': 'N',\n  'EVENT_TIME': '7/05/2023 11:17:08 PM',\n  'LINE': 'GOLD',\n  'NEXT_ARR': '11:39:09 PM',\n  'STATION': 'CHAMBLEE STATION',\n  'TRAIN_ID': '305326',\n  'WAITING_SECONDS': '1319',\n  'WAITING_TIME': '21 min'},\n {'DESTINATION': 'Doraville',\n  'DIRECTION': 'N',\n  'EVENT_TIME': '7/05/2023 11:17:08 PM',\n  'LINE': 'GOLD',\n  'NEXT_ARR': '11:42:10 PM',\n  'STATION': 'DORAVILLE STATION',\n  'TRAIN_ID': '305326',\n  'WAITING_SECONDS': '1500',\n  'WAITING_TIME': '25 min'},\n {'DESTINATION': 'Indian Creek',\n  'DIRECTION': 'E',\n  'EVENT_TIME': '7/05/2023 11:17:10 PM',\n  'LINE': 'BLUE',\n  'NEXT_ARR': '11:17:23 PM',\n  'STATION': 'GEORGIA STATE STATION',\n  'TRAIN_ID': '106026',\n  'WAITING_SECONDS': '13',\n  'WAITING_TIME': 'Arriving'},\n {'DESTINATION': 'Indian Creek',\n  'DIRECTION': 'E',\n  'EVENT_TIME': '7/05/2023 11:17:10 PM',\n  'LINE': 'BLUE',\n  'NEXT_ARR': '11:19:10 PM',\n  'STATION': 'KING MEMORIAL STATION',\n  'TRAIN_ID': '106026',\n  'WAITING_SECONDS': '120',\n  'WAITING_TIME': '2 min'},\n {'DESTINATION': 'Indian Creek',\n  'DIRECTION': 'E',\n  'EVENT_TIME': '7/05/2023 11:17:10 PM',\n  'LINE': 'BLUE',\n  'NEXT_ARR': '11:21:41 PM',\n  'STATION': 'INMAN PARK STATION',\n  'TRAIN_ID': '106026',\n  'WAITING_SECONDS': '271',\n  'WAITING_TIME': '4 min'},\n {'DESTINATION': 'Indian Creek',\n  'DIRECTION': 'E',\n  'EVENT_TIME': '7/05/2023 11:17:10 PM',\n  'LINE': 'BLUE',\n  'NEXT_ARR': '11:23:36 PM',\n  'STATION': 'EDGEWOOD CANDLER PARK STATION',\n  'TRAIN_ID': '106026',\n  'WAITING_SECONDS': '386',\n  'WAITING_TIME': '6 min'},\n {'DESTINATION': 'Indian Creek',\n  'DIRECTION': 'E',\n  'EVENT_TIME': '7/05/2023 11:17:10 PM',\n  'LINE': 'BLUE',\n  'NEXT_ARR': '11:26:28 PM',\n  'STATION': 'EAST LAKE STATION',\n  'TRAIN_ID': '106026',\n  'WAITING_SECONDS': '558',\n  'WAITING_TIME': '9 min'},\n {'DESTINATION': 'Indian Creek',\n  'DIRECTION': 'E',\n  'EVENT_TIME': '7/05/2023 11:17:10 PM',\n  'LINE': 'BLUE',\n  'NEXT_ARR': '11:29:52 PM',\n  'STATION': 'DECATUR STATION',\n  'TRAIN_ID': '106026',\n  'WAITING_SECONDS': '762',\n  'WAITING_TIME': '12 min'},\n {'DESTINATION': 'Indian Creek',\n  'DIRECTION': 'E',\n  'EVENT_TIME': '7/05/2023 11:17:10 PM',\n  'LINE': 'BLUE',\n  'NEXT_ARR': '11:32:11 PM',\n  'STATION': 'AVONDALE STATION',\n  'TRAIN_ID': '106026',\n  'WAITING_SECONDS': '901',\n  'WAITING_TIME': '15 min'},\n {'DESTINATION': 'Indian Creek',\n  'DIRECTION': 'E',\n  'EVENT_TIME': '7/05/2023 11:17:10 PM',\n  'LINE': 'BLUE',\n  'NEXT_ARR': '11:35:09 PM',\n  'STATION': 'KENSINGTON STATION',\n  'TRAIN_ID': '106026',\n  'WAITING_SECONDS': '1079',\n  'WAITING_TIME': '17 min'},\n {'DESTINATION': 'Indian Creek',\n  'DIRECTION': 'E',\n  'EVENT_TIME': '7/05/2023 11:17:10 PM',\n  'LINE': 'BLUE',\n  'NEXT_ARR': '11:37:42 PM',\n  'STATION': 'INDIAN CREEK STATION',\n  'TRAIN_ID': '106026',\n  'WAITING_SECONDS': '1232',\n  'WAITING_TIME': '20 min'},\n {'DESTINATION': 'North Springs',\n  'DIRECTION': 'N',\n  'EVENT_TIME': '7/05/2023 11:17:05 PM',\n  'LINE': 'RED',\n  'NEXT_ARR': '11:22:45 PM',\n  'STATION': 'MEDICAL CENTER STATION',\n  'TRAIN_ID': '406306',\n  'WAITING_SECONDS': '335',\n  'WAITING_TIME': '5 min'},\n {'DESTINATION': 'North Springs',\n  'DIRECTION': 'N',\n  'EVENT_TIME': '7/05/2023 11:17:05 PM',\n  'LINE': 'RED',\n  'NEXT_ARR': '11:24:52 PM',\n  'STATION': 'DUNWOODY STATION',\n  'TRAIN_ID': '406306',\n  'WAITING_SECONDS': '462',\n  'WAITING_TIME': '7 min'},\n {'DESTINATION': 'North Springs',\n  'DIRECTION': 'N',\n  'EVENT_TIME': '7/05/2023 11:17:05 PM',\n  'LINE': 'RED',\n  'NEXT_ARR': '11:26:46 PM',\n  'STATION': 'SANDY SPRINGS STATION',\n  'TRAIN_ID': '406306',\n  'WAITING_SECONDS': '576',\n  'WAITING_TIME': '9 min'},\n {'DESTINATION': 'North Springs',\n  'DIRECTION': 'N',\n  'EVENT_TIME': '7/05/2023 11:17:05 PM',\n  'LINE': 'RED',\n  'NEXT_ARR': '11:29:22 PM',\n  'STATION': 'NORTH SPRINGS STATION',\n  'TRAIN_ID': '406306',\n  'WAITING_SECONDS': '732',\n  'WAITING_TIME': '12 min'},\n {'DESTINATION': 'North Springs',\n  'DIRECTION': 'N',\n  'EVENT_TIME': '7/05/2023 11:17:05 PM',\n  'LINE': 'RED',\n  'NEXT_ARR': '11:17:10 PM',\n  'STATION': 'BUCKHEAD STATION',\n  'TRAIN_ID': '406306',\n  'WAITING_SECONDS': '0',\n  'WAITING_TIME': 'Arriving'}]"
     },
     "execution_count": 25,
     "metadata": {},
     "output_type": "execute_result"
    }
   ],
   "source": [
    "trains_url_2 = f\"http://developer.itsmarta.com/RealtimeTrain/RestServiceNextTrain/GetRealtimeArrivals?apikey={api_key}\"\n",
    "\n",
    "response = requests.get(trains_url_2)\n",
    "train = json.loads(response.text)\n",
    "train"
   ],
   "metadata": {
    "collapsed": false,
    "ExecuteTime": {
     "end_time": "2023-07-06T03:17:15.611036Z",
     "start_time": "2023-07-06T03:17:15.515891Z"
    }
   }
  }
 ],
 "metadata": {
  "kernelspec": {
   "display_name": "Python 3",
   "language": "python",
   "name": "python3"
  },
  "language_info": {
   "codemirror_mode": {
    "name": "ipython",
    "version": 2
   },
   "file_extension": ".py",
   "mimetype": "text/x-python",
   "name": "python",
   "nbconvert_exporter": "python",
   "pygments_lexer": "ipython2",
   "version": "2.7.6"
  }
 },
 "nbformat": 4,
 "nbformat_minor": 0
}
